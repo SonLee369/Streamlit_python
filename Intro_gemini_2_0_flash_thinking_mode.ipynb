{
  "cells": [
    {
      "cell_type": "markdown",
      "metadata": {
        "id": "view-in-github",
        "colab_type": "text"
      },
      "source": [
        "<a href=\"https://colab.research.google.com/github/SonLee369/Streamlit_python/blob/main/Intro_gemini_2_0_flash_thinking_mode.ipynb\" target=\"_parent\"><img src=\"https://colab.research.google.com/assets/colab-badge.svg\" alt=\"Open In Colab\"/></a>"
      ]
    },
    {
      "cell_type": "code",
      "execution_count": null,
      "metadata": {
        "id": "sqi5B7V_Rjim"
      },
      "outputs": [],
      "source": [
        "# Copyright 2024 Google LLC\n",
        "#\n",
        "# Licensed under the Apache License, Version 2.0 (the \"License\");\n",
        "# you may not use this file except in compliance with the License.\n",
        "# You may obtain a copy of the License at\n",
        "#\n",
        "#     https://www.apache.org/licenses/LICENSE-2.0\n",
        "#\n",
        "# Unless required by applicable law or agreed to in writing, software\n",
        "# distributed under the License is distributed on an \"AS IS\" BASIS,\n",
        "# WITHOUT WARRANTIES OR CONDITIONS OF ANY KIND, either express or implied.\n",
        "# See the License for the specific language governing permissions and\n",
        "# limitations under the License."
      ]
    },
    {
      "cell_type": "markdown",
      "metadata": {
        "id": "VyPmicX9RlZX"
      },
      "source": [
        "# Getting Started with Gemini 2.0 Flash Thinking Model\n",
        "\n",
        "<table align=\"left\">\n",
        "  <td style=\"text-align: center\">\n",
        "    <a href=\"https://colab.research.google.com/github/GoogleCloudPlatform/generative-ai/blob/main/gemini/getting-started/intro_gemini_2_0_flash_thinking_mode.ipynb\">\n",
        "      <img width=\"32px\" src=\"https://www.gstatic.com/pantheon/images/bigquery/welcome_page/colab-logo.svg\" alt=\"Google Colaboratory logo\"><br> Open in Colab\n",
        "    </a>\n",
        "  </td>\n",
        "  <td style=\"text-align: center\">\n",
        "    <a href=\"https://console.cloud.google.com/vertex-ai/colab/import/https:%2F%2Fraw.githubusercontent.com%2FGoogleCloudPlatform%2Fgenerative-ai%2Fmain%2Fgemini%2Fgetting-started%2Fintro_gemini_2_0_flash_thinking_mode.ipynb\">\n",
        "      <img width=\"32px\" src=\"https://lh3.googleusercontent.com/JmcxdQi-qOpctIvWKgPtrzZdJJK-J3sWE1RsfjZNwshCFgE_9fULcNpuXYTilIR2hjwN\" alt=\"Google Cloud Colab Enterprise logo\"><br> Open in Colab Enterprise\n",
        "    </a>\n",
        "  </td>\n",
        "  <td style=\"text-align: center\">\n",
        "    <a href=\"https://console.cloud.google.com/vertex-ai/workbench/deploy-notebook?download_url=https://raw.githubusercontent.com/GoogleCloudPlatform/generative-ai/main/gemini/getting-started/intro_gemini_2_0_flash_thinking_mode.ipynb\">\n",
        "      <img src=\"https://www.gstatic.com/images/branding/gcpiconscolors/vertexai/v1/32px.svg\" alt=\"Vertex AI logo\"><br> Open in Vertex AI Workbench\n",
        "    </a>\n",
        "  </td>\n",
        "  <td style=\"text-align: center\">\n",
        "    <a href=\"https://github.com/GoogleCloudPlatform/generative-ai/blob/main/gemini/getting-started/intro_gemini_2_0_flash_thinking_mode.ipynb\">\n",
        "      <img width=\"32px\" src=\"https://www.svgrepo.com/download/217753/github.svg\" alt=\"GitHub logo\"><br> View on GitHub\n",
        "    </a>\n",
        "  </td>\n",
        "  <td style=\"text-align: center\">\n",
        "    <a href=\"https://goo.gle/42q3ZwP\">\n",
        "      <img width=\"32px\" src=\"https://cdn.qwiklabs.com/assets/gcp_cloud-e3a77215f0b8bfa9b3f611c0d2208c7e8708ed31.svg\" alt=\"Google Cloud logo\"><br> Open in Cloud Skills Boost\n",
        "    </a>\n",
        "  </td>\n",
        "</table>\n",
        "\n",
        "<div style=\"clear: both;\"></div>\n",
        "\n",
        "<b>Share to:</b>\n",
        "\n",
        "<a href=\"https://www.linkedin.com/sharing/share-offsite/?url=https%3A//github.com/GoogleCloudPlatform/generative-ai/blob/main/gemini/getting-started/intro_gemini_2_0_flash_thinking_mode.ipynb\" target=\"_blank\">\n",
        "  <img width=\"20px\" src=\"https://upload.wikimedia.org/wikipedia/commons/8/81/LinkedIn_icon.svg\" alt=\"LinkedIn logo\">\n",
        "</a>\n",
        "\n",
        "<a href=\"https://bsky.app/intent/compose?text=https%3A//github.com/GoogleCloudPlatform/generative-ai/blob/main/gemini/getting-started/intro_gemini_2_0_flash_thinking_mode.ipynb\" target=\"_blank\">\n",
        "  <img width=\"20px\" src=\"https://upload.wikimedia.org/wikipedia/commons/7/7a/Bluesky_Logo.svg\" alt=\"Bluesky logo\">\n",
        "</a>\n",
        "\n",
        "<a href=\"https://twitter.com/intent/tweet?url=https%3A//github.com/GoogleCloudPlatform/generative-ai/blob/main/gemini/getting-started/intro_gemini_2_0_flash_thinking_mode.ipynb\" target=\"_blank\">\n",
        "  <img width=\"20px\" src=\"https://upload.wikimedia.org/wikipedia/commons/5/5a/X_icon_2.svg\" alt=\"X logo\">\n",
        "</a>\n",
        "\n",
        "<a href=\"https://reddit.com/submit?url=https%3A//github.com/GoogleCloudPlatform/generative-ai/blob/main/gemini/getting-started/intro_gemini_2_0_flash_thinking_mode.ipynb\" target=\"_blank\">\n",
        "  <img width=\"20px\" src=\"https://redditinc.com/hubfs/Reddit%20Inc/Brand/Reddit_Logo.png\" alt=\"Reddit logo\">\n",
        "</a>\n",
        "\n",
        "<a href=\"https://www.facebook.com/sharer/sharer.php?u=https%3A//github.com/GoogleCloudPlatform/generative-ai/blob/main/gemini/getting-started/intro_gemini_2_0_flash_thinking_mode.ipynb\" target=\"_blank\">\n",
        "  <img width=\"20px\" src=\"https://upload.wikimedia.org/wikipedia/commons/5/51/Facebook_f_logo_%282019%29.svg\" alt=\"Facebook logo\">\n",
        "</a>"
      ]
    },
    {
      "cell_type": "markdown",
      "metadata": {
        "id": "8MqT58L6Rm_q"
      },
      "source": [
        "| | |\n",
        "|-|-|\n",
        "| Author(s) |  [Guillaume Vernade](https://github.com/giom-v), [Eric Dong](https://github.com/gericdong) |"
      ]
    },
    {
      "cell_type": "markdown",
      "metadata": {
        "id": "3w14yjWnPVD-"
      },
      "source": [
        "## Overview\n",
        "\n",
        "[Gemini 2.0 Flash Thinking](https://cloud.google.com/vertex-ai/generative-ai/docs/thinking-mode) is an experimental model that's trained to generate the \"thinking process\" the model goes through as part of its response. As a result, the Flash Thinking model is capable of stronger reasoning capabilities in its responses than the Gemini 2.0 Flash model.\n",
        "\n",
        "This tutorial demonstrates how to access the Gemini 2.0 Flash Thinking model and use the model to solve the following complex tasks that require multiple rounds of strategizing and iteratively solving.\n",
        "\n",
        "- Example 1: Code simplification\n",
        "- Example 2: Geometry problem (with image)\n",
        "- Example 3: Mathematical brain teaser\n",
        "- Example 4: Generating question for a specific level of knowledge\n",
        "- Example 5: Statistics\n",
        "- Example 6: Brain teaser with a twist\n"
      ]
    },
    {
      "cell_type": "markdown",
      "metadata": {
        "id": "gPiTOAHURvTM"
      },
      "source": [
        "## Getting Started"
      ]
    },
    {
      "cell_type": "markdown",
      "metadata": {
        "id": "CHRZUpfWSEpp"
      },
      "source": [
        "### Install Google Gen AI SDK for Python\n"
      ]
    },
    {
      "cell_type": "code",
      "execution_count": 1,
      "metadata": {
        "id": "sG3_LKsWSD3A"
      },
      "outputs": [],
      "source": [
        "%pip install --upgrade --quiet google-genai"
      ]
    },
    {
      "cell_type": "markdown",
      "metadata": {
        "id": "HlMVjiAWSMNX"
      },
      "source": [
        "### Authenticate your notebook environment (Colab only)\n",
        "\n",
        "If you are running this notebook on Google Colab, run the cell below to authenticate your environment."
      ]
    },
    {
      "cell_type": "code",
      "execution_count": 2,
      "metadata": {
        "id": "12fnq4V0SNV3"
      },
      "outputs": [],
      "source": [
        "import sys\n",
        "\n",
        "if \"google.colab\" in sys.modules:\n",
        "    from google.colab import auth\n",
        "\n",
        "    auth.authenticate_user()"
      ]
    },
    {
      "cell_type": "markdown",
      "metadata": {
        "id": "0Ef0zVX-X9Bg"
      },
      "source": [
        "### Import libraries\n"
      ]
    },
    {
      "cell_type": "code",
      "execution_count": 3,
      "metadata": {
        "id": "xBCH3hnAX9Bh"
      },
      "outputs": [],
      "source": [
        "from IPython.display import Image, Markdown, display\n",
        "from google import genai\n",
        "from google.genai.types import Part"
      ]
    },
    {
      "cell_type": "markdown",
      "metadata": {
        "id": "LymmEN6GSTn-"
      },
      "source": [
        "### Set Google Cloud project information and create client\n",
        "\n",
        "To get started using Vertex AI, you must have an existing Google Cloud project and [enable the Vertex AI API](https://console.cloud.google.com/flows/enableapi?apiid=aiplatform.googleapis.com).\n",
        "\n",
        "Learn more about [setting up a project and a development environment](https://cloud.google.com/vertex-ai/docs/start/cloud-environment)."
      ]
    },
    {
      "cell_type": "code",
      "execution_count": 8,
      "metadata": {
        "id": "Nqwi-5ufWp_B"
      },
      "outputs": [],
      "source": [
        "import os\n",
        "\n",
        "PROJECT_ID = \"deft-falcon-455904-u8\"  # @param {type: \"string\", placeholder: \"[your-project-id]\", isTemplate: true}\n",
        "if not PROJECT_ID or PROJECT_ID == \"[your-project-id]\":\n",
        "    PROJECT_ID = str(os.environ.get(\"GOOGLE_CLOUD_PROJECT\"))\n",
        "\n",
        "LOCATION = os.environ.get(\"GOOGLE_CLOUD_REGION\", \"us-central1\")\n",
        "\n",
        "client = genai.Client(vertexai=True, project=PROJECT_ID, location=LOCATION)"
      ]
    },
    {
      "cell_type": "markdown",
      "metadata": {
        "id": "w0u6hYSleE0H"
      },
      "source": [
        "## Use Gemini 2.0 Flash Thinking Model\n"
      ]
    },
    {
      "cell_type": "markdown",
      "metadata": {
        "id": "5M7EKckIYVFy"
      },
      "source": [
        "### Set model ID\n",
        "\n",
        "See the [Google models](https://cloud.google.com/vertex-ai/generative-ai/docs/learn/models) page for more information."
      ]
    },
    {
      "cell_type": "code",
      "execution_count": 9,
      "metadata": {
        "id": "-coEslfWPrxo"
      },
      "outputs": [],
      "source": [
        "MODEL_ID = \"gemini-2.0-flash-thinking-exp-01-21\"  # @param {type: \"string\"}"
      ]
    },
    {
      "cell_type": "markdown",
      "metadata": {
        "id": "c5fc462efc55"
      },
      "source": [
        "### Generate content with thoughts\n",
        "\n",
        "Then use the `generate_content` method to send a request to generate content with thoughts. The model responds with multiple parts, the thoughts and the model response. You can check the `part.thought` field to determine if a part is a thought or not."
      ]
    },
    {
      "cell_type": "code",
      "execution_count": 10,
      "metadata": {
        "id": "c55bf1df11ea",
        "colab": {
          "base_uri": "https://localhost:8080/",
          "height": 338
        },
        "outputId": "f2fcd5bf-6f97-4e9d-e8e6-ff8799c1a69b"
      },
      "outputs": [
        {
          "output_type": "display_data",
          "data": {
            "text/plain": [
              "<IPython.core.display.Markdown object>"
            ],
            "text/markdown": "This sequence is a **geometric sequence** where each number is multiplied by 2 to get the next number.\n\n* 2 * 2 = 4\n* 4 * 2 = 8\n* 8 * 2 = 16\n\nTherefore, to find the next number, we multiply the last number (16) by 2:\n\n* 16 * 2 = 32\n\nThe next number in the sequence is **32**.\n\n**Another way to see the pattern:**\n\nYou can also see this sequence as powers of 2:\n\n* 2 = 2<sup>1</sup>\n* 4 = 2<sup>2</sup>\n* 8 = 2<sup>3</sup>\n* 16 = 2<sup>4</sup>\n\nFollowing this pattern, the next number would be 2<sup>5</sup>, which is also **32**."
          },
          "metadata": {}
        }
      ],
      "source": [
        "response = client.models.generate_content(\n",
        "    model=MODEL_ID,\n",
        "    contents=\"What is the next number in this sequence: 2, 4, 8, 16, __?\",\n",
        ")\n",
        "display(Markdown(response.text))"
      ]
    },
    {
      "cell_type": "markdown",
      "metadata": {
        "id": "0c9a466d65d0"
      },
      "source": [
        "### Generate content stream with thoughts\n",
        "\n",
        "You can also use the `generate_content_stream` method to stream the response and thoughts as they are being generated, and the model will return chunks of the response as soon as they are generated."
      ]
    },
    {
      "cell_type": "code",
      "execution_count": null,
      "metadata": {
        "id": "425f08594870"
      },
      "outputs": [],
      "source": [
        "responses = client.models.generate_content_stream(\n",
        "    model=MODEL_ID,\n",
        "    contents=\"Does the Monty Hall Problem change if all the doors are made of transparent glass?\",\n",
        ")\n",
        "\n",
        "for response in responses:\n",
        "    print(response.text, end=\"\")"
      ]
    },
    {
      "cell_type": "markdown",
      "metadata": {
        "id": "IrRBg9UGC9nn"
      },
      "source": [
        "## Thinking Model examples\n",
        "\n",
        "The following examples are some complex tasks that require multiple rounds of strategizing and iteratively solving.\n",
        "\n",
        "### **Example 1**: Code simplification\n",
        "\n",
        "First, try with a simple code comprehension and simplification example."
      ]
    },
    {
      "cell_type": "code",
      "execution_count": 25,
      "metadata": {
        "id": "dLhhffx2C9nn",
        "colab": {
          "base_uri": "https://localhost:8080/",
          "height": 966
        },
        "outputId": "19201d02-d41d-4fa6-d363-26fec851c27c"
      },
      "outputs": [
        {
          "output_type": "display_data",
          "data": {
            "text/plain": [
              "<IPython.core.display.Markdown object>"
            ],
            "text/markdown": "The code you provided is already quite concise and a common way to round to one decimal place and format it as a string in JavaScript.  \"Simplifying\" it depends on what you mean by simpler.\n\nHere are a few perspectives on simplification:\n\n**1. Readability and Clarity (Breaking it Down):**\n\nWhile concise, the original line might be slightly less readable for someone unfamiliar with this rounding pattern. You can improve readability by breaking it down into steps with descriptive variable names:\n\n```javascript\nconst calculatedValue = radius / pixelsPerMile;\nconst roundedValue = Math.round(calculatedValue * 10) / 10;\nconst formattedValue = roundedValue.toFixed(1);\n```\n\nThis achieves the same result but makes each step more explicit. You can even combine steps a bit:\n\n```javascript\nconst value = radius / pixelsPerMile;\nconst roundedOneDecimal = (Math.round(value * 10) / 10);\nconst formattedString = roundedOneDecimal.toFixed(1);\n```\n\n**2. Slightly More Concise Rounding (Minor, and potentially less clear for some):**\n\nYou could potentially make the rounding part *slightly* more concise, although it might be a matter of personal preference and could be considered less readable by some.\n\nInstead of `Math.round(value * 10) / 10`, you could think of it as:\n\n* Multiplying by 10 effectively shifts the decimal point one place to the right.\n* `Math.round` rounds to the nearest integer.\n* Dividing by 10 shifts the decimal point back to the left.\n\nThere isn't a dramatically shorter built-in JavaScript function for rounding to a specific decimal place *mathematically* before formatting.\n\n**3.  No Real \"Simplification\" in terms of Functionality:**\n\nFunctionally, the code is already doing the minimum necessary steps to achieve the desired outcome:\n\n* **`radius / pixelsPerMile`**:  This is your base calculation and depends on your context. You can't simplify this without changing what you are calculating.\n* **`* 10` and `/ 10` with `Math.round()`**: This is the standard way to round to one decimal place in JavaScript numerically.\n* **`.toFixed(1)`**: This is essential if you want to ensure the output is *always* a string with exactly one decimal place, even if the decimal part is zero (e.g., \"2.0\" instead of \"2\").\n\n**4.  Consider Context and Reusability (Functions):**\n\nIf you are doing this rounding and formatting in multiple places in your code, the best \"simplification\" would be to encapsulate it in a reusable function:\n\n```javascript\nfunction roundToOneDecimalPlaceString(value) {\n  return (Math.round(value * 10) / 10).toFixed(1);\n}\n\n// Then use it like this:\nconst formattedRadius = roundToOneDecimalPlaceString(radius / pixelsPerMile);\n```\n\nThis makes your code cleaner and easier to maintain, even though the core rounding logic remains the same.\n\n**Which Simplification is \"Best\"?**\n\n* **For readability in a complex piece of code:** Breaking it down into steps with descriptive variables is usually the best approach.\n* **For conciseness if you're comfortable with the pattern:**  The original line is already quite good.\n* **For reusability and cleaner code across a project:**  Creating a function is the most effective simplification.\n\n**In Summary:**\n\nThe original code is already quite efficient and a standard way to achieve the desired result. \"Simplifying\" it further in terms of *functionality* isn't really possible without changing the core logic.  The best simplification is likely to improve readability and maintainability by breaking it down or encapsulating it in a function, depending on your needs and the context of your code.\n\n**Unless you have a very specific performance concern (which is unlikely for this simple operation), readability and maintainability should be your primary goals when \"simplifying\" code.**"
          },
          "metadata": {}
        }
      ],
      "source": [
        "prompt = \"\"\"\n",
        "How can I simplify this?\n",
        "`(Math.round(radius/pixelsPerMile * 10) / 10).toFixed(1);`\n",
        "\"\"\"\n",
        "\n",
        "response = client.models.generate_content(\n",
        "    model=MODEL_ID,\n",
        "    contents=prompt,\n",
        ")\n",
        "\n",
        "display(Markdown(response.text))"
      ]
    },
    {
      "cell_type": "markdown",
      "metadata": {
        "id": "d6cOmdVPC9nn"
      },
      "source": [
        "As a comparison here's what you'd get with the [Gemini 2.0 Flash](https://cloud.google.com/vertex-ai/generative-ai/docs/gemini-v2) base model.\n",
        "\n",
        "Unlike thinking mode, the normal model does not articulate its thoughts and tries to answer right away which can lead to more simple answers to complex problems."
      ]
    },
    {
      "cell_type": "code",
      "execution_count": 26,
      "metadata": {
        "id": "027b7d9a6134",
        "colab": {
          "base_uri": "https://localhost:8080/",
          "height": 1000
        },
        "outputId": "f3682aab-d1bd-40e1-b290-bc31ebe7f26f"
      },
      "outputs": [
        {
          "output_type": "display_data",
          "data": {
            "text/plain": [
              "<IPython.core.display.Markdown object>"
            ],
            "text/markdown": "Let's break down the original expression and then look at ways to simplify it, keeping in mind that the primary goal is to improve readability and potentially performance (though the performance gains in this case are likely to be negligible).\n\n**Understanding the Original Expression**\n\n* `radius / pixelsPerMile`:  This calculates a ratio.  Presumably, `radius` is a value in some unit and `pixelsPerMile` converts that unit to miles.  The result is a value in miles.\n\n* `... * 10`:  This multiplies the result by 10, effectively shifting the decimal point one place to the right.\n\n* `Math.round(...)`: This rounds the value to the nearest integer.  Crucially, this step *after* multiplying by 10 is what gives you the rounding to the nearest tenth.\n\n* `/ 10`: This divides the rounded integer by 10, shifting the decimal back one place to the left, giving you the desired value rounded to the nearest tenth.\n\n* `.toFixed(1)`: This converts the number to a string with exactly one digit after the decimal point.  This is important if you always want to see the `.0` even when the decimal part is zero.\n\n**Simplification Strategies**\n\nHere are a few strategies you can use, with explanations of their tradeoffs:\n\n**1.  Combine the Multiply and Divide:**\n\n   This is the most straightforward simplification.\n\n   ```javascript\n   const result = Math.round(radius / pixelsPerMile * 10) / 10;\n   const formattedResult = result.toFixed(1);\n   ```\n\n   Becomes:\n\n   ```javascript\n   const result = Math.round((radius / pixelsPerMile) * 10) / 10;\n   const formattedResult = result.toFixed(1);\n   ```\n\n   or (slightly more readable):\n\n   ```javascript\n   const miles = radius / pixelsPerMile;\n   const roundedMiles = Math.round(miles * 10) / 10;\n   const formattedMiles = roundedMiles.toFixed(1);\n   ```\n\n   This is a slight improvement in readability because it gives meaning to the calculations.\n\n**2.  Directly Use `toFixed` with Rounding Logic:**\n\n   This is the most compact, but also can be the hardest to read if you don't understand what it's doing:\n\n   ```javascript\n   const formattedMiles = ((radius / pixelsPerMile) * 10).toFixed(0) / 10;\n\n   ```\n\n   **Important Note:**  `.toFixed(0)` truncates instead of rounds. It's crucial to ensure the multiplication by 10 before `.toFixed(0)` actually handles the rounding to the nearest tenth as intended.\n\n**3.  No Simplification (Keep It as Is):**\n\n   Sometimes, the original expression is already the most readable, especially if the individual steps are clearly understood.  Readability is often more important than shaving off a few characters.\n\n**4.  Consider Rounding to a Specific Number of Decimal Places (Instead of Tenths):**\n\n   If you have a general need to round to N decimal places, you can generalize the expression:\n\n   ```javascript\n   function roundToDecimalPlaces(number, decimalPlaces) {\n       const factor = Math.pow(10, decimalPlaces);\n       return Math.round(number * factor) / factor;\n   }\n\n   const miles = radius / pixelsPerMile;\n   const roundedMiles = roundToDecimalPlaces(miles, 1); // Round to 1 decimal place\n   const formattedMiles = roundedMiles.toFixed(1); // Ensure 1 decimal place even if it's .0\n   ```\n\n**5.  Using Libraries (Lodash/Underscore):**\n\n   Libraries like Lodash and Underscore provide rounding functions that might be clearer:\n\n   ```javascript\n   // Example with Lodash\n   import _ from 'lodash';\n\n   const miles = radius / pixelsPerMile;\n   const roundedMiles = _.round(miles, 1); // Round to 1 decimal place\n   const formattedMiles = roundedMiles.toFixed(1);\n   ```\n\n   While this may be slightly cleaner to read, adding a large library just for this rounding task is generally overkill.\n\n**Which Simplification to Choose?**\n\n* **Readability is Paramount:** Choose the option that is easiest for you and your team to understand at a glance.  The version with intermediate variables (`miles`, `roundedMiles`, `formattedMiles`) is often the best for this.\n\n* **Consistency:** If you have similar calculations throughout your codebase, choose one style and stick with it.\n\n* **Overhead:** Introducing a large library (like Lodash/Underscore) solely for this rounding task is probably not worth it unless you're already using the library for other purposes.\n\n**Example: Best Balance of Readability and Simplicity**\n\n```javascript\nconst miles = radius / pixelsPerMile;\nconst roundedMiles = Math.round(miles * 10) / 10;\nconst formattedMiles = roundedMiles.toFixed(1);\n```\n\nThis option clearly separates the calculations into distinct steps, improving readability and making it easier to understand the intent of each line of code.  It's still relatively concise and avoids unnecessary complexity.\n"
          },
          "metadata": {}
        }
      ],
      "source": [
        "response = client.models.generate_content(\n",
        "    model=\"gemini-2.0-flash-001\",\n",
        "    contents=prompt,\n",
        ")\n",
        "\n",
        "display(Markdown(response.text))"
      ]
    },
    {
      "cell_type": "markdown",
      "metadata": {
        "id": "4080cc17f5d9"
      },
      "source": [
        "### **Example 2**: Geometry problem (with image)\n",
        "\n",
        "This geometry problem requires complex reasoning and is also using Gemini multimodal capabilities to read the image."
      ]
    },
    {
      "cell_type": "code",
      "execution_count": 11,
      "metadata": {
        "id": "8bd02dff35d0",
        "colab": {
          "base_uri": "https://localhost:8080/",
          "height": 409
        },
        "outputId": "729a2391-4d21-4a1a-fd14-58d503eb2e02"
      },
      "outputs": [
        {
          "output_type": "display_data",
          "data": {
            "text/html": [
              "<img src=\"https://storage.googleapis.com/generativeai-downloads/images/geometry.png\" width=\"400\"/>"
            ],
            "text/plain": [
              "<IPython.core.display.Image object>"
            ]
          },
          "metadata": {}
        }
      ],
      "source": [
        "image_file_path = \"generativeai-downloads/images/geometry.png\"\n",
        "image_file_uri = f\"gs://{image_file_path}\"\n",
        "image_file_url = f\"https://storage.googleapis.com/{image_file_path}\"\n",
        "\n",
        "display(Image(url=image_file_url, width=400))"
      ]
    },
    {
      "cell_type": "code",
      "execution_count": 13,
      "metadata": {
        "id": "80f2vzWxC9no",
        "colab": {
          "base_uri": "https://localhost:8080/",
          "height": 306
        },
        "outputId": "b2b307a0-8c22-4da7-b56f-d7c3a2bcd354"
      },
      "outputs": [
        {
          "output_type": "display_data",
          "data": {
            "text/plain": [
              "<IPython.core.display.Markdown object>"
            ],
            "text/markdown": "The image shows a circle and a right triangle overlapping each other. We need to find the area of the overlapping region.\n\nFrom the image, we can observe the following:\n1.  The circle is centered at the vertex of the right angle of the triangle.\n2.  The two legs of the right triangle with length 3 are along the radii of the circle.\n3.  The radius of the circle is 3, as indicated by the labels.\n4.  The angle of the sector formed by the overlapping region is the right angle of the triangle, which is 90 degrees.\n\nThe overlapping region is a sector of the circle.\nThe angle of the sector is 90 degrees.\nThe radius of the circle is 3.\n\nThe area of a sector of a circle is given by the formula:\nArea of sector = (θ/360) * π * r²\nwhere θ is the angle of the sector in degrees and r is the radius of the circle.\n\nIn this case, θ = 90 degrees and r = 3.\nArea of overlapping region = (90/360) * π * (3)²\nArea of overlapping region = (1/4) * π * 9\nArea of overlapping region = (9/4) * π\n\nAlternatively, we can use the formula in radians.\nAngle in radians = 90 degrees * (π/180) = π/2 radians.\nArea of sector = (1/2) * θ * r²\nArea of sector = (1/2) * (π/2) * (3)²\nArea of sector = (1/4) * π * 9\nArea of sector = (9/4) * π\n\nFinal Answer: The final answer is $\\boxed{{9\\pi/4}}$"
          },
          "metadata": {}
        }
      ],
      "source": [
        "response = client.models.generate_content(\n",
        "    model=MODEL_ID,\n",
        "    contents=[\n",
        "        Part.from_uri(file_uri=image_file_uri, mime_type=\"image/png\"),\n",
        "        \"What's the area of the overlapping region?\",\n",
        "    ],\n",
        ")\n",
        "\n",
        "display(Markdown(response.text))"
      ]
    },
    {
      "cell_type": "markdown",
      "metadata": {
        "id": "9_WlcJZjC9np"
      },
      "source": [
        "### **Example 3**: Mathematical brain teaser\n"
      ]
    },
    {
      "cell_type": "code",
      "execution_count": 15,
      "metadata": {
        "id": "e5411dfb9e8b",
        "colab": {
          "base_uri": "https://localhost:8080/",
          "height": 225
        },
        "outputId": "e7fc1e9c-2b6a-4911-a0c0-0203f5cb0d04"
      },
      "outputs": [
        {
          "output_type": "display_data",
          "data": {
            "text/plain": [
              "<IPython.core.display.Markdown object>"
            ],
            "text/markdown": "Solution:\n```\n50 * (8 + 7) - 4 = 746\n```\n\nExplanation:\n1. **Addition:** Add 8 and 7:  8 + 7 = 15\n2. **Multiplication:** Multiply 50 by the result from step 1: 50 * 15 = 750\n3. **Subtraction:** Subtract 4 from the result from step 2: 750 - 4 = 746\n\nThis solution uses each number (8, 7, 50, 4) exactly once and uses addition, multiplication, and subtraction operations.\n\nFinal Answer: The final answer is $\\boxed{50*(8+7)-4}$"
          },
          "metadata": {}
        }
      ],
      "source": [
        "prompt = \"\"\"Add mathematical operations (additions, subtractions, multiplications)\n",
        "to get 746 using these numbers only once: 8, 7, 50, and 4\n",
        "\"\"\"\n",
        "\n",
        "response = client.models.generate_content(\n",
        "    model=MODEL_ID,\n",
        "    contents=prompt,\n",
        ")\n",
        "\n",
        "display(Markdown(response.text))"
      ]
    },
    {
      "cell_type": "markdown",
      "metadata": {
        "id": "655ba02d9bda"
      },
      "source": [
        "### **Example 4**: Generating question for a specific level of knowledge\n",
        "\n",
        "This time, the questions require a few types of knowledge, including what is relevant to the [Physics C: Mechanics exam](https://apcentral.collegeboard.org/courses/ap-physics-c-mechanics/exam). The questions generated are not the interesting part, but the reasoning to come up with them shows they are not just randomly generated."
      ]
    },
    {
      "cell_type": "code",
      "execution_count": 27,
      "metadata": {
        "id": "MU3FAUqcC9np",
        "colab": {
          "base_uri": "https://localhost:8080/",
          "height": 702
        },
        "outputId": "ce8213f3-e4a1-496d-80b5-1e212593434d"
      },
      "outputs": [
        {
          "output_type": "display_data",
          "data": {
            "text/plain": [
              "<IPython.core.display.Markdown object>"
            ],
            "text/markdown": "Okay, here's a practice question for AP Physics C: Mechanics that covers rotational motion, energy, and forces.  This is a challenging question, appropriate for the level of difficulty you might encounter.\n\n**Question:**\n\n**A Yo-Yo with a Twist!**\n\nA yo-yo is constructed with a solid cylindrical body of mass *M* and radius *R*.  A thin, massless string is wrapped around a narrow axle of radius *r* (*r* < *R*) that is concentric with the cylinder. The yo-yo is released from rest such that the string unwinds as the yo-yo descends vertically.  Assume the string unwinds without slipping on the axle.\n\n**(a)  Free-Body Diagram:** Draw a free-body diagram of the yo-yo as it descends. Clearly label all forces acting on the yo-yo.\n\n**(b) Rotational Inertia:**  Derive an expression for the rotational inertia (*I*) of the yo-yo about its axis of rotation in terms of *M* and *R*. (Assume it's a solid cylinder rotating about its central axis).\n\n**(c) Equations of Motion:** Using Newton's Second Law for both linear and rotational motion, write down the equations of motion for the yo-yo in terms of *M*, *g* (acceleration due to gravity), *T* (tension in the string), *a* (linear acceleration of the yo-yo's center of mass), *α* (angular acceleration of the yo-yo), and *r*.\n\n**(d) Relationship between Linear and Angular Acceleration:**  Determine the relationship between the linear acceleration (*a*) of the yo-yo's center of mass and the angular acceleration (*α*) of the yo-yo. Explain your reasoning.\n\n**(e) Acceleration and Tension:** Solve the system of equations from part (c) and (d) to derive expressions for:\n    *  The linear acceleration (*a*) of the yo-yo in terms of *g*, *R*, and *r*.\n    *  The tension (*T*) in the string in terms of *M*, *g*, *R*, and *r*.\n\n**(f) Energy Conservation:**  Using energy principles, derive an expression for the speed (*v*) of the yo-yo's center of mass after it has descended a vertical distance *h* from rest. Express your answer in terms of *g*, *h*, *R*, and *r*.  Verify that your answer is consistent with your result for linear acceleration in part (e).\n\n\n**Why this is a good practice question:**\n\n* **Multi-Concept:** It covers forces (gravity, tension), rotational motion (torque, rotational inertia, angular acceleration), linear motion (acceleration), and energy conservation (potential and kinetic energy).\n* **Application of Fundamental Laws:** It requires the direct application of Newton's Second Law for both translation and rotation, as well as the principle of energy conservation.\n* **Algebraic Manipulation:**  Students need to be comfortable working with variables and deriving expressions.\n* **Conceptual Understanding:**  Understanding the relationship between linear and angular motion is crucial.\n* **Exam Level Difficulty:** The question is complex enough to be representative of the challenging problems on the AP Physics C: Mechanics exam.\n* **Parts build upon each other:**  The parts are logically sequenced, guiding the student through the problem-solving process step-by-step.\n\n**To use this question for practice:**\n\n1. **Attempt to solve each part independently.**  Don't look at the solutions immediately.\n2. **Check your answers against provided solutions (you can ask me for solutions if you'd like to check!).**\n3. **Identify areas where you struggled.**  Review the relevant concepts in your textbook or notes.\n4. **Try similar problems.**  Practice is key to mastering these concepts.\n\nGood luck practicing! Let me know if you want to check your answers or need any hints!"
          },
          "metadata": {}
        }
      ],
      "source": [
        "response = client.models.generate_content(\n",
        "    model=MODEL_ID,\n",
        "    contents=\"Give me a practice question I can use for the AP Physics C: Mechanics exam?\",\n",
        ")\n",
        "\n",
        "display(Markdown(response.text))"
      ]
    },
    {
      "cell_type": "markdown",
      "metadata": {
        "id": "FnDwUxI-fRWo"
      },
      "source": [
        "### **Example 5**: Statistics\n",
        "\n",
        "Here's a new mathematical problem. Once again, what's interesting is not the answer (as you might know it already) but how the model is coming up with it."
      ]
    },
    {
      "cell_type": "code",
      "execution_count": 29,
      "metadata": {
        "id": "hQozYPZzgXRE",
        "colab": {
          "base_uri": "https://localhost:8080/",
          "height": 240
        },
        "outputId": "923baa34-7a8b-4aec-aceb-8f6719611663"
      },
      "outputs": [
        {
          "output_type": "display_data",
          "data": {
            "text/plain": [
              "<IPython.core.display.Markdown object>"
            ],
            "text/markdown": "Let $P$ be the probability that HHH occurs first, and $Q$ be the probability that HTH occurs first. We have $P+Q=1$.\nWe consider the first few flips.\nIf the first flip is T (probability 1/2), then we are back to the starting position, so the probability of HHH occurring first is still $P$.\nIf the first flip is H (probability 1/2), we consider the second flip.\nIf the second flip is T (probability 1/2), we have HT. Then we consider the third flip.\nIf the third flip is H (probability 1/2), we have HTH, so HTH occurs first.\nIf the third flip is T (probability 1/2), we have HTT, and we are back to the starting position, so the probability of HHH occurring first is $P$.\nIf the second flip is H (probability 1/2), we have HH. Then we consider the third flip.\nIf the third flip is H (probability 1/2), we have HHH, so HHH occurs first.\nIf the third flip is T (probability 1/2), we have HHT. Now we have HT as the last two flips.  So we are in the state of having just flipped HT.  From HHT, we are essentially in the same situation as starting from HT.\n\nSo we can write the probability $P$ as:\n$P = \\frac{1}{2}P + \\frac{1}{2} (\\frac{1}{2} (\\frac{1}{2} \\times 0 + \\frac{1}{2} P) + \\frac{1}{2} (\\frac{1}{2} \\times 1 + \\frac{1}{2} P_{HHTH \\text{ first}}) )$\n$P = \\frac{1}{2}P + \\frac{1}{2} (\\frac{1}{2} (\\frac{1}{2} P) + \\frac{1}{2} (\\frac{1}{2} + \\frac{1}{2} P_{HTH \\text{ first}}) )$\nActually, let's use conditional probabilities as derived earlier.\n$P = \\frac{2}{5}$ and $Q = \\frac{3}{5}$.\nSince $Q = \\frac{3}{5} > \\frac{2}{5} = P$, it is more likely to get HTH first.\n\nFinal Answer: The final answer is $\\boxed{HTH}$"
          },
          "metadata": {}
        }
      ],
      "source": [
        "response = client.models.generate_content(\n",
        "    model=MODEL_ID,\n",
        "    contents=\"You repeatedly flipped a coin until you either flip three heads, or heads tails heads. Which is more likely to happen first?\",\n",
        ")\n",
        "\n",
        "display(Markdown(response.text))"
      ]
    },
    {
      "cell_type": "markdown",
      "metadata": {
        "id": "m9RG4DRCm1vY"
      },
      "source": [
        "### **Example 6**:  Brain teaser with a twist\n",
        "\n",
        "Here's another brain teaser based on an image, this time it looks like a mathematical problem, but it cannot actually be solved mathematically. If you check the thoughts of the model you'll see that it will realize it and come up with an out-of-the-box solution."
      ]
    },
    {
      "cell_type": "code",
      "execution_count": 19,
      "metadata": {
        "id": "b26b9ebd2d5d",
        "colab": {
          "base_uri": "https://localhost:8080/",
          "height": 348
        },
        "outputId": "4bba414a-8a28-4266-84e1-560d4ca5664e"
      },
      "outputs": [
        {
          "output_type": "display_data",
          "data": {
            "text/html": [
              "<img src=\"https://storage.googleapis.com/generativeai-downloads/images/pool.png\" width=\"400\"/>"
            ],
            "text/plain": [
              "<IPython.core.display.Image object>"
            ]
          },
          "metadata": {}
        }
      ],
      "source": [
        "image_file_path = \"generativeai-downloads/images/pool.png\"\n",
        "image_file_uri = f\"gs://{image_file_path}\"\n",
        "image_file_url = f\"https://storage.googleapis.com/{image_file_path}\"\n",
        "\n",
        "display(Image(url=image_file_url, width=400))"
      ]
    },
    {
      "cell_type": "code",
      "execution_count": 30,
      "metadata": {
        "id": "A0_4uP5Wm6yx",
        "colab": {
          "base_uri": "https://localhost:8080/",
          "height": 169
        },
        "outputId": "495a4e69-fe7c-48ff-ed84-72c0bf05762d"
      },
      "outputs": [
        {
          "output_type": "display_data",
          "data": {
            "text/plain": [
              "<IPython.core.display.Markdown object>"
            ],
            "text/markdown": "Unfortunately, you cannot use three of the pool balls numbered 7, 9, 11, and 13 to sum up to exactly 30 using standard addition.\n\nLet's check all combinations of three numbers from the given set:\n\n* 7 + 9 + 11 = 27\n* 7 + 9 + 13 = 29\n* 7 + 11 + 13 = 31\n* 9 + 11 + 13 = 33\n\nNone of these combinations sum up to 30.  Therefore, with these specific numbers and using only addition, it is not possible to get a sum of 30 using three of them."
          },
          "metadata": {}
        }
      ],
      "source": [
        "response = client.models.generate_content(\n",
        "    model=MODEL_ID,\n",
        "    contents=[\n",
        "        Part.from_uri(file_uri=image_file_uri, mime_type=\"image/png\"),\n",
        "        \"How do I use three of the pool balls to sum up to 30?\",\n",
        "    ],\n",
        ")\n",
        "\n",
        "display(Markdown(response.text))"
      ]
    },
    {
      "cell_type": "markdown",
      "metadata": {
        "id": "lND4jB6MrsSk"
      },
      "source": [
        "## Next Steps\n",
        "\n",
        "- Explore the Vertex AI [Cookbook](https://cloud.google.com/vertex-ai/generative-ai/docs/cookbook) for a curated, searchable gallery of notebooks for Generative AI.\n",
        "- Explore other notebooks and samples in the [Google Cloud Generative AI repository](https://github.com/GoogleCloudPlatform/generative-ai)."
      ]
    }
  ],
  "metadata": {
    "colab": {
      "toc_visible": true,
      "provenance": [],
      "include_colab_link": true
    },
    "kernelspec": {
      "display_name": "Python 3",
      "name": "python3"
    }
  },
  "nbformat": 4,
  "nbformat_minor": 0
}